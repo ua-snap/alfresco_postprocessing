{
 "cells": [
  {
   "cell_type": "markdown",
   "id": "8e2bf2e1-7222-4de7-990c-1ba8c6603c17",
   "metadata": {},
   "source": [
    "# Validate `alfresco_relative_flammability.py`\n",
    "\n",
    "This notebook is for validating results from the `alfresco_relative_flammability.py` script. This script is intended to produce relative flammability estimates from ALFRESCO outputs. \n",
    "\n",
    "The approach taken is to \n",
    "\n",
    "1. manually compute relative flammability here\n",
    "2. use the script on the same outputs\n",
    "3. verify that the results from each are the same\n",
    "\n",
    "## Testing set\n",
    "\n",
    "The data used to test this are currently in `/atlas_scratch/apbennett/Calibration/HighCalib/FMO_Calibrated/`. \n",
    "\n",
    "## Compute relative flammability\n",
    "\n",
    "According to [SNAP CKAN description](http://ckan.snap.uaf.edu/dataset/alfresco-model-outputs-relative-flammability), relative flammability \"Counts the number of times a pixel burned through all replicates and time and divides that value by the total number of layers (replicates * years)\"\n",
    "\n",
    "So to implement this for a single century (100 years) for all replicates (200), relative flammability for a single pixel is computed as:\n",
    "\n",
    "$$n / 100 * 200$$\n",
    "\n",
    "Where $n$ is the total number of times a pixel burned across all replicates and time.\n",
    "\n",
    "#### Input data: fire scar\n",
    "\n",
    "It looks like number of fires for a pixel can be derived from fire scar files. According to this [JFSP report](https://drive.google.com/file/d/17bLAPkfq5i8dlrrBXmQNHvgoGspM3jRS/view?usp=sharing), band 3 is a boolean for ignition. Verify this with a sample file, rep 1 of year 2005:"
   ]
  },
  {
   "cell_type": "code",
   "execution_count": 1,
   "id": "32d0d914-f3d6-4281-ba96-56925c2a6aba",
   "metadata": {},
   "outputs": [],
   "source": [
    "import os\n",
    "import subprocess\n",
    "import time\n",
    "from pathlib import Path\n",
    "\n",
    "import matplotlib.pyplot as plt\n",
    "import numpy as np\n",
    "import rasterio as rio\n",
    "import tqdm\n",
    "from multiprocessing import Pool"
   ]
  },
  {
   "cell_type": "code",
   "execution_count": 2,
   "id": "f2d031bd-90fa-4be9-9fa8-f43b4e5d9db9",
   "metadata": {},
   "outputs": [],
   "source": [
    "# setup paths\n",
    "base_dir = Path(\"/atlas_scratch/apbennett/Calibration/HighCalib/FMO_Calibrated/\")\n",
    "scratch_dir = Path(\"/atlas_scratch/kmredilla/aalfresco\")"
   ]
  },
  {
   "cell_type": "code",
   "execution_count": 3,
   "id": "d32a574e-a3ca-4a65-a0c0-c4addb2f911d",
   "metadata": {},
   "outputs": [],
   "source": [
    "model = \"CCSM4\"\n",
    "scenario = \"rcp45\"\n",
    "\n",
    "temp_scar_fn = f\"{model}_{scenario}_NoFMO/Maps/{{}}/FireScar_{{}}_{{}}.tif\""
   ]
  },
  {
   "cell_type": "code",
   "execution_count": 4,
   "id": "361a4024-f625-46d9-a506-e3fd7eb4a2b3",
   "metadata": {},
   "outputs": [],
   "source": [
    "year = \"2005\"\n",
    "rep = \"1\"\n",
    "\n",
    "fp = base_dir.joinpath(temp_scar_fn.format(year, rep, year))"
   ]
  },
  {
   "cell_type": "markdown",
   "id": "50decfeb-5fb8-4b02-af79-feac7353ef32",
   "metadata": {},
   "source": [
    "Band 1 should be only the year of burning. Unique values: "
   ]
  },
  {
   "cell_type": "code",
   "execution_count": 44,
   "id": "9a402ddf-07dd-439e-bc0e-7a4be7876441",
   "metadata": {},
   "outputs": [
    {
     "name": "stdout",
     "output_type": "stream",
     "text": [
      "[-2147483647        2005]\n"
     ]
    }
   ],
   "source": [
    "with rio.open(fp) as src:\n",
    "    print(np.unique(src.read(1)))"
   ]
  },
  {
   "cell_type": "markdown",
   "id": "edbe5aa8-9175-43d4-8a2e-fadaeee2c34b",
   "metadata": {},
   "source": [
    "Band 2 should be burn ID. Unique values:"
   ]
  },
  {
   "cell_type": "code",
   "execution_count": 45,
   "id": "6053bf27-5ae1-48c2-9f84-1a8a0519f9be",
   "metadata": {},
   "outputs": [
    {
     "name": "stdout",
     "output_type": "stream",
     "text": [
      "[-2147483647           1           2           3           4           5\n",
      "           6           7           8           9          10          11\n",
      "          12          13          14          15          16          17\n",
      "          18          19          20          21          22          23\n",
      "          24          25          26          27          28          29\n",
      "          30          31          32          33          34          35\n",
      "          36          37          38          39          40          41\n",
      "          42          43          44          45          46          47\n",
      "          48          49          50          51          52          53\n",
      "          54          55          56          57          58          59\n",
      "          60          61          62          63          64          65\n",
      "          66          67          68          69          70          71\n",
      "          72          73          74          75          76          77\n",
      "          78          79          80          81          82          83\n",
      "          84          85          86          87]\n"
     ]
    }
   ],
   "source": [
    "with rio.open(fp) as src:\n",
    "    print(np.unique(src.read(2)))"
   ]
  },
  {
   "cell_type": "markdown",
   "id": "d77d59a7-04ee-4b46-8695-2098475b6bd4",
   "metadata": {},
   "source": [
    "Band 3 should be boolean for burn/no burn. Unique values:"
   ]
  },
  {
   "cell_type": "code",
   "execution_count": 46,
   "id": "bc0ccc5f-8780-4268-9665-359bd53c7c86",
   "metadata": {},
   "outputs": [
    {
     "name": "stdout",
     "output_type": "stream",
     "text": [
      "[ 0.  1. nan]\n",
      "Plot:\n"
     ]
    },
    {
     "data": {
      "image/png": "[encoded data removed]",
      "text/plain": [
       "<Figure size 432x288 with 1 Axes>"
      ]
     },
     "metadata": {
      "needs_background": "light"
     },
     "output_type": "display_data"
    }
   ],
   "source": [
    "with rio.open(fp) as src:\n",
    "    temp_arr = src.read(3).astype(float)\n",
    "    temp_arr[temp_arr == src.meta[\"nodata\"]] = np.nan\n",
    "    print(np.unique(temp_arr))\n",
    "    print(\"Plot:\")\n",
    "    plt.imshow(temp_arr, interpolation=\"none\")"
   ]
  },
  {
   "cell_type": "markdown",
   "id": "b252f3dc-4016-4055-97aa-5fa988679288",
   "metadata": {},
   "source": [
    "Zoom in on an area:"
   ]
  },
  {
   "cell_type": "code",
   "execution_count": 52,
   "id": "00ddd546-e41f-4855-bfc0-cebe3330931f",
   "metadata": {},
   "outputs": [
    {
     "data": {
      "text/plain": [
       "<matplotlib.image.AxesImage at 0x7f0dc8ad75b0>"
      ]
     },
     "execution_count": 52,
     "metadata": {},
     "output_type": "execute_result"
    },
    {
     "data": {
      "image/png": "[encoded data removed]",
      "text/plain": [
       "<Figure size 432x288 with 1 Axes>"
      ]
     },
     "metadata": {
      "needs_background": "light"
     },
     "output_type": "display_data"
    }
   ],
   "source": [
    "plt.imshow(temp_arr[1100:1140, 1560:1600], interpolation=\"none\")"
   ]
  },
  {
   "cell_type": "markdown",
   "id": "3b500ad8-6fd6-498b-9b0c-7df6fb5fd017",
   "metadata": {},
   "source": [
    "You can see this fire started with the yellow pixel and burned over all of the blue pixels. This confirms burn number can be derived from fire scar outputs - any pixel with data burned in that particular rep/year."
   ]
  },
  {
   "cell_type": "markdown",
   "id": "0dc92761-1389-43d4-a0f7-0000c77410fa",
   "metadata": {},
   "source": [
    "#### Compute relative flammability\n",
    "\n",
    "Using these data, compute that relative flammability data. "
   ]
  },
  {
   "cell_type": "code",
   "execution_count": 30,
   "id": "268e9d3c-ae04-4af8-a440-70f1a9b0c619",
   "metadata": {},
   "outputs": [],
   "source": [
    "periods = {\n",
    "    \"1900-1999\": np.arange(1901, 2000),\n",
    "    \"2000-2099\": np.arange(2000, 2101),\n",
    "}"
   ]
  },
  {
   "cell_type": "code",
   "execution_count": 31,
   "id": "584eb234-01b1-4606-88ae-1d9a5ab9f5ae",
   "metadata": {},
   "outputs": [],
   "source": [
    "model = \"CCSM4\"\n",
    "scenario = \"rcp45\""
   ]
  },
  {
   "cell_type": "code",
   "execution_count": 84,
   "id": "bb580196-ea39-4afe-af14-eb0c9da7ae1b",
   "metadata": {
    "tags": []
   },
   "outputs": [
    {
     "name": "stdout",
     "output_type": "stream",
     "text": [
      "working on 1901's\n"
     ]
    },
    {
     "name": "stderr",
     "output_type": "stream",
     "text": [
      "100%|███████████████████████████████████████████████████████████████████████████████████████████████████████████████████████████████████████████████| 200/200 [00:04<00:00, 48.58it/s]\n"
     ]
    },
    {
     "name": "stdout",
     "output_type": "stream",
     "text": [
      "working on 1910's\n"
     ]
    },
    {
     "name": "stderr",
     "output_type": "stream",
     "text": [
      "100%|███████████████████████████████████████████████████████████████████████████████████████████████████████████████████████████████████████████████| 200/200 [00:04<00:00, 49.87it/s]\n"
     ]
    },
    {
     "name": "stdout",
     "output_type": "stream",
     "text": [
      "working on 1920's\n"
     ]
    },
    {
     "name": "stderr",
     "output_type": "stream",
     "text": [
      "100%|███████████████████████████████████████████████████████████████████████████████████████████████████████████████████████████████████████████████| 200/200 [00:04<00:00, 48.77it/s]\n"
     ]
    },
    {
     "name": "stdout",
     "output_type": "stream",
     "text": [
      "working on 1930's\n"
     ]
    },
    {
     "name": "stderr",
     "output_type": "stream",
     "text": [
      "100%|███████████████████████████████████████████████████████████████████████████████████████████████████████████████████████████████████████████████| 200/200 [00:03<00:00, 51.54it/s]\n"
     ]
    },
    {
     "name": "stdout",
     "output_type": "stream",
     "text": [
      "working on 1940's\n"
     ]
    },
    {
     "name": "stderr",
     "output_type": "stream",
     "text": [
      "100%|███████████████████████████████████████████████████████████████████████████████████████████████████████████████████████████████████████████████| 200/200 [00:04<00:00, 49.31it/s]\n"
     ]
    },
    {
     "name": "stdout",
     "output_type": "stream",
     "text": [
      "working on 1950's\n"
     ]
    },
    {
     "name": "stderr",
     "output_type": "stream",
     "text": [
      "100%|███████████████████████████████████████████████████████████████████████████████████████████████████████████████████████████████████████████████| 200/200 [00:03<00:00, 50.83it/s]\n"
     ]
    },
    {
     "name": "stdout",
     "output_type": "stream",
     "text": [
      "working on 1960's\n"
     ]
    },
    {
     "name": "stderr",
     "output_type": "stream",
     "text": [
      "100%|███████████████████████████████████████████████████████████████████████████████████████████████████████████████████████████████████████████████| 200/200 [00:03<00:00, 51.49it/s]\n"
     ]
    },
    {
     "name": "stdout",
     "output_type": "stream",
     "text": [
      "working on 1970's\n"
     ]
    },
    {
     "name": "stderr",
     "output_type": "stream",
     "text": [
      "100%|███████████████████████████████████████████████████████████████████████████████████████████████████████████████████████████████████████████████| 200/200 [00:04<00:00, 47.42it/s]\n"
     ]
    },
    {
     "name": "stdout",
     "output_type": "stream",
     "text": [
      "working on 1980's\n"
     ]
    },
    {
     "name": "stderr",
     "output_type": "stream",
     "text": [
      "100%|███████████████████████████████████████████████████████████████████████████████████████████████████████████████████████████████████████████████| 200/200 [00:04<00:00, 49.69it/s]\n"
     ]
    },
    {
     "name": "stdout",
     "output_type": "stream",
     "text": [
      "working on 1990's\n"
     ]
    },
    {
     "name": "stderr",
     "output_type": "stream",
     "text": [
      "100%|███████████████████████████████████████████████████████████████████████████████████████████████████████████████████████████████████████████████| 200/200 [00:03<00:00, 51.34it/s]\n"
     ]
    },
    {
     "name": "stdout",
     "output_type": "stream",
     "text": [
      "Elapsed time to count all burns: 789s\n"
     ]
    }
   ],
   "source": [
    "def read_burn(fp):\n",
    "    with rio.open(fp) as src:\n",
    "        temp_arr = src.read(3, masked=True)\n",
    "        return (~temp_arr.mask)\n",
    "\n",
    "    \n",
    "# extract the data in prallel\n",
    "# init empty counting array\n",
    "total_arr = np.zeros((2100, 3650)).astype(int)\n",
    "\n",
    "tic = time.perf_counter()\n",
    "\n",
    "for year in periods[\"1900-1999\"]:\n",
    "    fps = list(base_dir.joinpath(f\"{model}_{scenario}_NoFMO/Maps/\").glob(f\"{year}/FireScar*.tif\"))\n",
    "\n",
    "    with Pool(30) as pool:\n",
    "        # chunk up printing a little bit\n",
    "        if (year % 10 == 0) or (year == 1901):\n",
    "            print(f\"working on {year}'s\")\n",
    "            burn_arrs = [arr for arr in tqdm.tqdm(pool.imap_unordered(read_burn, fps), total=len(fps))]\n",
    "        else:\n",
    "            burn_arrs = pool.map(read_burn, fps)\n",
    "\n",
    "    total_arr += np.sum(burn_arrs, axis=0)\n",
    "\n",
    "et = round(time.perf_counter() - tic)\n",
    "print(f\"Elapsed time to count all burns: {et}s\")"
   ]
  },
  {
   "cell_type": "code",
   "execution_count": 102,
   "id": "e677ab97-2c44-4233-962d-ed9774c8e2bb",
   "metadata": {},
   "outputs": [],
   "source": [
    "# compute relative flammability\n",
    "relflam_arr = total_arr.astype(np.float32) / (len(fps) * len(periods[\"1900-1999\"]))"
   ]
  },
  {
   "cell_type": "markdown",
   "id": "0032c762-7d83-444d-a483-7303d84464ee",
   "metadata": {},
   "source": [
    "Relative flammability of domain:"
   ]
  },
  {
   "cell_type": "code",
   "execution_count": 104,
   "id": "09fff997-ef97-4213-8351-cc6ae858a2b6",
   "metadata": {},
   "outputs": [
    {
     "data": {
      "text/plain": [
       "<matplotlib.image.AxesImage at 0x7f7db47af160>"
      ]
     },
     "execution_count": 104,
     "metadata": {},
     "output_type": "execute_result"
    },
    {
     "data": {
      "image/png": "[encoded data removed]",
      "text/plain": [
       "<Figure size 432x288 with 1 Axes>"
      ]
     },
     "metadata": {
      "needs_background": "light"
     },
     "output_type": "display_data"
    }
   ],
   "source": [
    "plt.imshow(relflam_arr, interpolation=\"none\")"
   ]
  },
  {
   "cell_type": "markdown",
   "id": "8ab2d9e2-4b57-46db-ad5e-016e3d4b5ebe",
   "metadata": {},
   "source": [
    "Looks reasonable. Counts of burns:"
   ]
  },
  {
   "cell_type": "code",
   "execution_count": 105,
   "id": "3678bf29-230a-4108-9488-df2fef73d2d5",
   "metadata": {},
   "outputs": [
    {
     "data": {
      "text/plain": [
       "(array([6.551746e+06, 5.436220e+05, 5.428540e+05, 1.884100e+04,\n",
       "        3.607000e+03, 1.895000e+03, 9.680000e+02, 6.660000e+02,\n",
       "        5.360000e+02, 2.650000e+02]),\n",
       " array([  0. ,  59.6, 119.2, 178.8, 238.4, 298. , 357.6, 417.2, 476.8,\n",
       "        536.4, 596. ]),\n",
       " <BarContainer object of 10 artists>)"
      ]
     },
     "execution_count": 105,
     "metadata": {},
     "output_type": "execute_result"
    },
    {
     "data": {
      "image/png": "[encoded data removed]",
      "text/plain": [
       "<Figure size 432x288 with 1 Axes>"
      ]
     },
     "metadata": {
      "needs_background": "light"
     },
     "output_type": "display_data"
    }
   ],
   "source": [
    "plt.hist(total_arr.flatten())"
   ]
  },
  {
   "cell_type": "code",
   "execution_count": 86,
   "id": "ddf7b1cf-f445-49d8-896e-a0296a805f03",
   "metadata": {},
   "outputs": [],
   "source": [
    "# write the results\n",
    "out_fp = scratch_dir.joinpath(f\"alf_relflam_manual_{model}_{scenario}_1900_1999.tif\")"
   ]
  },
  {
   "cell_type": "code",
   "execution_count": 117,
   "id": "2f5424d8-3f92-4d91-be0e-61d14e255139",
   "metadata": {},
   "outputs": [],
   "source": [
    "# to match the script, need to read in mask from veg file and apply it\n",
    "mask = rio.open(str(fps[0]).replace(\"FireScar_\", \"Veg_\")).read_masks(1)\n",
    "mask = (mask == 255).astype(int)\n",
    "mask_value = -9999.0\n",
    "relflam_arr[mask == 0] = mask_value"
   ]
  },
  {
   "cell_type": "code",
   "execution_count": 118,
   "id": "6f52613f-dc0c-4054-934e-ffd442530126",
   "metadata": {},
   "outputs": [],
   "source": [
    "# get metadata from an input fp\n",
    "with rio.open(fp) as src:\n",
    "    meta = src.meta.copy()\n",
    "\n",
    "meta.update({\"dtype\": \"float32\", \"nodata\": mask_value})\n",
    "\n",
    "# rounded to 4 decimal places in script\n",
    "with rio.open(out_fp, \"w\", **meta) as dst:\n",
    "    dst.write(np.around(relflam_arr, 4), 1)"
   ]
  },
  {
   "cell_type": "markdown",
   "id": "25dbe22f-5be1-446c-9bc1-3d5956b28557",
   "metadata": {},
   "source": [
    "## Compute using `alfresco_relative_flammability.py` script\n",
    "\n",
    "Now apply the `alfresco_relative_flammability.py` to the same model / scenario and years."
   ]
  },
  {
   "cell_type": "code",
   "execution_count": 11,
   "id": "24959941-5b9c-476c-b754-6126f6d1d1d2",
   "metadata": {},
   "outputs": [],
   "source": [
    "maps_path = base_dir.joinpath(f\"{model}_{scenario}_NoFMO/Maps/\")\n",
    "ncores = \"30\"\n",
    "begin_year = \"1900\"\n",
    "end_year = \"1999\"\n",
    "output_filename = scratch_dir.joinpath(f\"alf_relflam_test_{model}_{scenario}_{begin_year}_{end_year}.tif\")"
   ]
  },
  {
   "cell_type": "code",
   "execution_count": 12,
   "id": "f8c2b273-3729-4bc5-9a10-47ec51546191",
   "metadata": {
    "collapsed": true,
    "jupyter": {
     "outputs_hidden": true
    },
    "tags": []
   },
   "outputs": [
    {
     "name": "stdout",
     "output_type": "stream",
     "text": [
      "running firescar groups summation\n",
      "group 10  done\n",
      "group 0  done\n",
      "group 101  done\n",
      "group 105  done\n",
      "group 107  done\n",
      "group 110  done\n",
      "group 103  done\n",
      "group 112  done\n",
      "group 114  done\n",
      "group 118  done\n",
      "group 136  done\n",
      "group 127  done\n",
      "group 141  done\n",
      "group 12  done\n",
      "group 145  done\n",
      "group 132  done\n",
      "group 134  done\n",
      "group 121  done\n",
      "group 116  done\n",
      "group 125  done\n",
      "group 138  done\n",
      "group 109  done\n",
      "group 129  done\n",
      "group 123  done\n",
      "group 147  done\n",
      "group 150  done\n",
      "group 14  done\n",
      "group 149  done\n",
      "group 130  done\n",
      "group 143  done\n",
      "group 100  done\n",
      "group 1  done\n",
      "group 106  done\n",
      "group 108  done\n",
      "group 102  done\n",
      "group 111  done\n",
      "group 104  done\n",
      "group 113  done\n",
      "group 115  done\n",
      "group 120  done\n",
      "group 142  done\n",
      "group 119  done\n",
      "group 137  done\n",
      "group 133  done\n",
      "group 128  done\n",
      "group 139  done\n",
      "group 122  done\n",
      "group 117  done\n",
      "group 135  done\n",
      "group 126  done\n",
      "group 146  done\n",
      "group 148  done\n",
      "group 13  done\n",
      "group 151  done\n",
      "group 15  done\n",
      "group 11  done\n",
      "group 131  done\n",
      "group 124  done\n",
      "group 140  done\n",
      "group 144  done\n",
      "group 152  done\n",
      "group 154  done\n",
      "group 156  done\n",
      "group 158  done\n",
      "group 16  done\n",
      "group 161  done\n",
      "group 163  done\n",
      "group 165  done\n",
      "group 167  done\n",
      "group 169  done\n",
      "group 170  done\n",
      "group 178  done\n",
      "group 176  done\n",
      "group 172  done\n",
      "group 190  done\n",
      "group 181  done\n",
      "group 174  done\n",
      "group 196  done\n",
      "group 192  done\n",
      "group 18  done\n",
      "group 185  done\n",
      "group 198  done\n",
      "group 189  done\n",
      "group 183  done\n",
      "group 187  done\n",
      "group 21  done\n",
      "group 2  done\n",
      "group 23  done\n",
      "group 194  done\n",
      "group 25  done\n",
      "group 153  done\n",
      "group 155  done\n",
      "group 157  done\n",
      "group 160  done\n",
      "group 159  done\n",
      "group 162  done\n",
      "group 166  done\n",
      "group 168  done\n",
      "group 164  done\n",
      "group 17  done\n",
      "group 171  done\n",
      "group 179  done\n",
      "group 173  done\n",
      "group 177  done\n",
      "group 19  done\n",
      "group 191  done\n",
      "group 175  done\n",
      "group 193  done\n",
      "group 184  done\n",
      "group 186  done\n",
      "group 197  done\n",
      "group 182  done\n",
      "group 180  done\n",
      "group 188  done\n",
      "group 199  done\n",
      "group 22  done\n",
      "group 24  done\n",
      "group 20  done\n",
      "group 26  done\n",
      "group 195  done\n",
      "group 27  done\n",
      "group 29  done\n",
      "group 30  done\n",
      "group 32  done\n",
      "group 34  done\n",
      "group 36  done\n",
      "group 38  done\n",
      "group 43  done\n",
      "group 4  done\n",
      "group 41  done\n",
      "group 45  done\n",
      "group 49  done\n",
      "group 47  done\n",
      "group 56  done\n",
      "group 50  done\n",
      "group 52  done\n",
      "group 67  done\n",
      "group 58  done\n",
      "group 6  done\n",
      "group 54  done\n",
      "group 61  done\n",
      "group 69  done\n",
      "group 63  done\n",
      "group 65  done\n",
      "group 70  done\n",
      "group 72  done\n",
      "group 74  done\n",
      "group 76  done\n",
      "group 78  done\n",
      "group 8  done\n",
      "group 28  done\n",
      "group 3  done\n",
      "group 31  done\n",
      "group 33  done\n",
      "group 37  done\n",
      "group 35  done\n",
      "group 39  done\n",
      "group 44  done\n",
      "group 40  done\n",
      "group 42  done\n",
      "group 46  done\n",
      "group 57  done\n",
      "group 5  done\n",
      "group 51  done\n",
      "group 48  done\n",
      "group 53  done\n",
      "group 60  done\n",
      "group 68  done\n",
      "group 55  done\n",
      "group 7  done\n",
      "group 66  done\n",
      "group 62  done\n",
      "group 71  done\n",
      "group 64  done\n",
      "group 59  done\n",
      "group 73  done\n",
      "group 79  done\n",
      "group 77  done\n",
      "group 75  done\n",
      "group 80  done\n",
      "group 81  done\n",
      "group 83  done\n",
      "group 85  done\n",
      "group 87  done\n",
      "group 90  done\n",
      "group 89  done\n",
      "group 92  done\n",
      "group 94  done\n",
      "group 98  done\n",
      "group 96  done\n",
      "group 82  done\n",
      "group 84  done\n",
      "group 86  done\n",
      "group 88  done\n",
      "group 9  done\n",
      "group 91  done\n",
      "group 93  done\n",
      "group 95  done\n",
      "group 99  done\n",
      "group 97  done\n",
      "firescar groups summation done. summing all groups\n",
      "firescar summation done\n"
     ]
    }
   ],
   "source": [
    "script_run = os.system((\n",
    "    \"cd \"\n",
    "    \"../bin/ \"\n",
    "    \"&& \"\n",
    "    \"python \" \n",
    "    \"alfresco_relative_flammability.py \"\n",
    "    \"-p \"\n",
    "    f\"{maps_path} \"\n",
    "    \"-o \"\n",
    "    f\"{output_filename} \"\n",
    "    \"-nc \"\n",
    "    f\"{ncores} \"\n",
    "    \"-by \"\n",
    "    f\"{begin_year} \"\n",
    "    \"-ey \"\n",
    "    f\"{end_year}\"\n",
    "))"
   ]
  },
  {
   "cell_type": "markdown",
   "id": "1e8ad3a7-67a0-4df9-8b72-f3b9f8e7d696",
   "metadata": {},
   "source": [
    "## Compare the results\n",
    "\n",
    "Compare the results from both approaches:"
   ]
  },
  {
   "cell_type": "code",
   "execution_count": 120,
   "id": "ff22f5e0-21bc-46ed-ade0-f78a7451439c",
   "metadata": {},
   "outputs": [
    {
     "name": "stdout",
     "output_type": "stream",
     "text": [
      "Relative flammability arrays match:  True\n"
     ]
    }
   ],
   "source": [
    "with rio.open(out_fp) as src1:\n",
    "    with rio.open(output_filename) as src2:\n",
    "        print(\"Relative flammability arrays match: \", np.all(src1.read(1) == src2.read(1)))"
   ]
  },
  {
   "cell_type": "markdown",
   "id": "17981844-218f-4ef5-afe9-c767f8412057",
   "metadata": {},
   "source": [
    "The script appears to be valid. "
   ]
  }
 ],
 "metadata": {
  "kernelspec": {
   "display_name": "Python 3 (ipykernel)",
   "language": "python",
   "name": "python3"
  },
  "language_info": {
   "codemirror_mode": {
    "name": "ipython",
    "version": 3
   },
   "file_extension": ".py",
   "mimetype": "text/x-python",
   "name": "python",
   "nbconvert_exporter": "python",
   "pygments_lexer": "ipython3",
   "version": "3.8.10"
  }
 },
 "nbformat": 4,
 "nbformat_minor": 5
}
